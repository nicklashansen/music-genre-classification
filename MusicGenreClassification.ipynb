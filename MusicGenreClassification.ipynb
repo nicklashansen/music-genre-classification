{
 "cells": [
  {
   "cell_type": "markdown",
   "metadata": {},
   "source": [
    "<h3><span style=\"color:red\">WORK IN PROGRESS</span></h3>"
   ]
  },
  {
   "cell_type": "markdown",
   "metadata": {},
   "source": [
    "# Music Genre Classification\n",
    "### 02452 - Audio Information Processing Systems\n",
    "\n",
    "#### Bragi Marinosson (s185510) & Nicklas Hansen (s153077)"
   ]
  },
  {
   "cell_type": "markdown",
   "metadata": {},
   "source": [
    "This notebook contains code and results for the exam project on Music Genre Classification for the 02452 graduate course offered at the Technical University of Denmark (DTU). Work has been equally distributed between the two authors and any questions can be directed at either of us.\n",
    "\n",
    "The work presented in this notebook is to be considered open source under the MIT License. If you found this code useful in your research, then please cite\n",
    "\n",
    "\n",
    "```\n",
    "@inproceedings{mgc-marinosson-hansen,\n",
    "  title={Music Genre Classification},\n",
    "  author={Hansen, Nicklas and Marinosson, Bragi},\n",
    "  year={2019}\n",
    "}\n",
    "```"
   ]
  },
  {
   "cell_type": "markdown",
   "metadata": {},
   "source": [
    "#### Data"
   ]
  },
  {
   "cell_type": "markdown",
   "metadata": {},
   "source": [
    "Raw, high-quality MP3-encoded audio data (30 s per sample) and genre classifications from the Free Music Archive (FMA) dataset is used in this study. For more information on the dataset, visit https://github.com/mdeff/fma/ and/or read the paper *FMA: A Dataset For Music Analysis*, Michaël Defferrard, Kirell Benzi, Pierre Vandergheynst, Xavier Bresson (2017).\n",
    "\n",
    "As the original dataset contains 105 GB of audio data, we do not make that data available directly. To get your hands on the raw data, refer to the aforementioned website and paper. The original dataset is required in order to run the preprocessing steps in this code. Optionally, you can skip this step by setting the ``PREPROCESS`` global parameter to ``False`` and instead downloading our preprocessed data, which only takes up roughly 2 GB and saves you a lot of time. The preprocessed data is made available at the following link:\n",
    "\n",
    "https://1drv.ms/u/s!AnqePMbr4kj8nvA7HBGWzBJIvOB-9w\n",
    "\n",
    "Please note that we cannot guarantee the availability of this data indefinitely. Therefore, you may have to rerun the preprocessing step yourself in the future."
   ]
  },
  {
   "cell_type": "markdown",
   "metadata": {},
   "source": [
    "#### Setup\n",
    "\n",
    "All code was developed and tested on Windows 10 (version 10.0.17134) with Python 3.7 and has been verified to work both with and without a GPU, although it is highly recommended to use one during training of neural networks as it decreases wall time significantly. For this study, a GTX1080 unit was used on a computer with 16 GB RAM."
   ]
  },
  {
   "cell_type": "markdown",
   "metadata": {},
   "source": [
    "#### Imports\n",
    "\n",
    "Required dependencies are listed as imports below. If you intend to run this code on your own machine, please make sure that you have installed all of the below dependencies before proceeding."
   ]
  },
  {
   "cell_type": "code",
   "execution_count": 1,
   "metadata": {},
   "outputs": [
    {
     "name": "stderr",
     "output_type": "stream",
     "text": [
      "C:\\Users\\nickl\\AppData\\Local\\Continuum\\anaconda3\\lib\\site-packages\\h5py\\__init__.py:36: FutureWarning: Conversion of the second argument of issubdtype from `float` to `np.floating` is deprecated. In future, it will be treated as `np.float64 == np.dtype(float).type`.\n",
      "  from ._conv import register_converters as _register_converters\n"
     ]
    }
   ],
   "source": [
    "import os\n",
    "import sys\n",
    "import numpy as np\n",
    "import h5py\n",
    "import pickle\n",
    "import collections\n",
    "from collections import defaultdict\n",
    "from random import shuffle\n",
    "import matplotlib.pyplot as plt\n",
    "from sklearn import model_selection, neighbors, metrics\n",
    "from sklearn.utils import shuffle\n",
    "import time\n",
    "from IPython.display import clear_output\n",
    "import librosa\n",
    "from librosa import display\n",
    "import pandas as pd\n",
    "import torch\n",
    "import torch.nn as nn\n",
    "from torch.nn import Linear, RNN, LSTM\n",
    "import torch.nn.functional as F\n",
    "from torch.nn.functional import softmax, relu\n",
    "from torch.autograd import Variable\n",
    "import torch.optim as optim"
   ]
  },
  {
   "cell_type": "markdown",
   "metadata": {},
   "source": [
    "#### Working directory as data path"
   ]
  },
  {
   "cell_type": "markdown",
   "metadata": {},
   "source": [
    "You need to set this path to the root of the dataset, keeping all folders as is, but removing files in the root directory that are not MP3 files as the code does not check for this (resulting in less operations)."
   ]
  },
  {
   "cell_type": "code",
   "execution_count": 2,
   "metadata": {},
   "outputs": [],
   "source": [
    "os.chdir('C:/FMA/')"
   ]
  },
  {
   "cell_type": "markdown",
   "metadata": {},
   "source": [
    "#### Path to additional files"
   ]
  },
  {
   "cell_type": "markdown",
   "metadata": {},
   "source": [
    "You need to set this path to a location that either contains files related to this code or a location in which you want to store such files."
   ]
  },
  {
   "cell_type": "code",
   "execution_count": 3,
   "metadata": {},
   "outputs": [],
   "source": [
    "GENRES = 'C:/Users/nickl/OneDrive/DTU_2019/Audio Information Processing Systems/Music Genre Classification/'"
   ]
  },
  {
   "cell_type": "markdown",
   "metadata": {},
   "source": [
    "#### Set global seed for reproducibility"
   ]
  },
  {
   "cell_type": "code",
   "execution_count": 81,
   "metadata": {},
   "outputs": [],
   "source": [
    "def set_seed(seed = int(0x02452)):\n",
    "    torch.manual_seed(seed)\n",
    "    torch.cuda.manual_seed(seed)\n",
    "    np.random.seed = seed\n",
    "    \n",
    "set_seed()"
   ]
  },
  {
   "cell_type": "markdown",
   "metadata": {},
   "source": [
    "#### Global parameters"
   ]
  },
  {
   "cell_type": "markdown",
   "metadata": {},
   "source": [
    "``PREPROCESS`` determines whether the code should redo the preprocessing step or not. If you already preprocessed the original data or downloaded our preprocessed files, you can set ``PREPROCESS`` to ``False`` for a significant speed-up. Otherwise, you will have to complete the preprocessing step.\n",
    "\n",
    "``NUM_CLASSES`` determines the number of genres to be used for classification. In this study we use 10 classes, but in principle this could be any number of classes (up to the number of genres in the dataset). Aside from the discarded classes as noted in the ``load_tracklist`` function, the classes used are selected based on the number of available samples (favoring a high count).\n",
    "\n",
    "``NUM_FRAMES`` determines the number of frames used in each audio segment. Due to a window size of 2048 and a hop length of 1024, we require 128 frames to represent 3 seconds of audio as used in our study.\n",
    "\n",
    "``MFCC_COEFFICIENTS`` determines the number of MFCC coefficients (frequency bands) to be used to model the Mel-frequency spectrum of the audio signal. A high number of coefficents produces a good frequency resolution but also requires proportionally more space and computation."
   ]
  },
  {
   "cell_type": "code",
   "execution_count": 5,
   "metadata": {},
   "outputs": [],
   "source": [
    "PREPROCESS = False\n",
    "\n",
    "NUM_CLASSES = 10\n",
    "NUM_FRAMES = 128\n",
    "MFCC_COEFFICIENTS = 32"
   ]
  },
  {
   "cell_type": "markdown",
   "metadata": {},
   "source": [
    "#### Get all available files"
   ]
  },
  {
   "cell_type": "code",
   "execution_count": 6,
   "metadata": {
    "scrolled": true
   },
   "outputs": [],
   "source": [
    "def load_data(target_file='train'):\n",
    "    '''\n",
    "    Loads any data from target location.\n",
    "    '''\n",
    "    with open(GENRES + target_file + '.pickle', 'rb') as handle:\n",
    "        return pickle.load(handle)\n",
    "    \n",
    "    \n",
    "def save_data(data, target_file='train'):\n",
    "    '''\n",
    "    Saves any data to target location.\n",
    "    '''\n",
    "    with open(GENRES + target_file + '.pickle', 'wb') as handle:\n",
    "        pickle.dump(data, handle, protocol=pickle.HIGHEST_PROTOCOL)\n",
    "    \n",
    "\n",
    "def load_tracklist(discarded_genres=['Experimental', 'International', 'Instrumental', 'Old-Time / Historic', 'Spoken']):\n",
    "    '''\n",
    "    Load list of tracks with genre information as data frame.\n",
    "    '''\n",
    "    tracklist = pd.read_csv(GENRES + 'genres.csv').set_index('id', drop=True)\n",
    "    \n",
    "    tracklist = tracklist[tracklist.genre.notnull()]\n",
    "    for genre in discarded_genres:\n",
    "        tracklist = tracklist[tracklist.genre != genre]\n",
    "\n",
    "    return tracklist\n",
    "\n",
    "\n",
    "def get_file_list(verbose=False):\n",
    "    '''\n",
    "    Returns a list of all .h5 files in current working directory.\n",
    "    '''\n",
    "    files = []\n",
    "    for r, d, f in os.walk(os.getcwd()):\n",
    "        for file in f:\n",
    "            if '.mp3' in file:\n",
    "                files.append(os.path.join(r, file))\n",
    "\n",
    "    print(f'Found {len(files)} files!')\n",
    "    return files\n",
    "\n",
    "\n",
    "def train_test_split(files, test_num=None, p=None):\n",
    "    '''\n",
    "    Returns two lists (train and test). If test_num is\n",
    "    not None, the second list will contain test_num number\n",
    "    of elements and the first list contains the remainder.\n",
    "    If p is not None, lists are populated such that the first\n",
    "    list contains elements selected with p probability\n",
    "    and the second list contains elements selected with\n",
    "    1-p probability (at random).\n",
    "    '''\n",
    "    if test_num is not None:\n",
    "        return files[:-test_num], files[-test_num:]\n",
    "    \n",
    "    elif p is not None:\n",
    "        lsts = [], []\n",
    "        for file in files:\n",
    "            a = np.random.choice(2, 1, p=[p, 1-p])[0]\n",
    "            lsts[a].append(file)\n",
    "        return lsts\n",
    "    \n",
    "    raise ParameterError('Either test_num or p must have a value!')\n",
    "\n",
    "    \n",
    "def id_from_filename(file):\n",
    "    return str(int(file.split('\\\\')[-1].split('.')[0]))\n",
    "    \n",
    "\n",
    "def get_top_genres(genre_dict):\n",
    "    '''\n",
    "    Returns the top occurring genres as a list.\n",
    "    '''\n",
    "    lst = sorted(genre_dict, key=genre_dict.get, reverse=True)\n",
    "    return lst[:NUM_CLASSES] if len(lst) > NUM_CLASSES else lst\n",
    "    \n",
    "    \n",
    "def files_with_available_genre(files, predefined_tracklist=None, genre_cap=None, return_genre_count=False, verbose=False):\n",
    "    \n",
    "    lst, genres, tracklist = [], defaultdict(int), load_tracklist()\n",
    "\n",
    "    for file in files:\n",
    "        idx = id_from_filename(file)\n",
    "        \n",
    "        try:\n",
    "            g = tracklist.loc[idx].genre\n",
    "            \n",
    "            if genre_cap is not None and genres[g] >= 1000:\n",
    "                continue\n",
    "                \n",
    "            if (predefined_tracklist is None or g in predefined_tracklist):\n",
    "                lst.append(file)\n",
    "                genres[g] += 1\n",
    "        except:\n",
    "            continue\n",
    "    \n",
    "    if predefined_tracklist is None:\n",
    "        print(f'Found {len(lst)} files with labels!')\n",
    "    else:\n",
    "        print(f'Found {len(lst)} files with labels among top {NUM_CLASSES} genres!')\n",
    "    \n",
    "    if return_genre_count is True:\n",
    "        return lst, get_top_genres(genres), genres\n",
    "    \n",
    "    return lst, get_top_genres(genres)\n",
    "\n",
    "\n",
    "if PREPROCESS is True:\n",
    "    files, genres = files_with_available_genre(get_file_list(verbose=True), verbose=True)\n",
    "    files, genres, genre_count = files_with_available_genre(shuffle(files), genres, genre_cap=1000, return_genre_count=True, verbose=True)\n",
    "    \n",
    "    train_files, test_files = train_test_split(files, p=0.9)\n",
    "    class_weights = np.array([1/(genre_count[g]/(len(files)/NUM_CLASSES)) for g in genres])\n",
    "\n",
    "    save_data((genres, class_weights), 'class_weights')\n",
    "    \n",
    "    print('\\nTrain files:', len(train_files), '\\nTest  files:', len(test_files), '\\n\\nClasses and class weights:')\n",
    "    print(genres)\n",
    "    print(class_weights)"
   ]
  },
  {
   "cell_type": "markdown",
   "metadata": {},
   "source": [
    "#### Extract features"
   ]
  },
  {
   "cell_type": "code",
   "execution_count": 7,
   "metadata": {
    "scrolled": false
   },
   "outputs": [],
   "source": [
    "def mfcc_from_file(file, n_mfcc=MFCC_COEFFICIENTS):\n",
    "    '''\n",
    "    Computes MFCC coefficients of an audio file.\n",
    "    '''\n",
    "    x, sr = librosa.load(file, sr=None)\n",
    "    return librosa.feature.mfcc(x, sr, n_mfcc=n_mfcc, n_fft=2048, hop_length=1024)\n",
    "\n",
    "\n",
    "def generate_data(files, genres, target_file='train', skip_factor=1):\n",
    "    '''\n",
    "    Generates features and labels from from a sequence\n",
    "    of filenames and stores the resulting data as a\n",
    "    pickle object on the specified path.\n",
    "    '''\n",
    "    tracklist = load_tracklist()\n",
    "    X, y = [], []\n",
    "    \n",
    "    for file_num, file in enumerate(files):\n",
    "        try:\n",
    "            mfccs = np.transpose(mfcc_from_file(file))\n",
    "            idx, lbl = 0, tracklist.loc[id_from_filename(file)].genre\n",
    "            while idx < mfccs.shape[0] - NUM_FRAMES:\n",
    "                X.append(mfccs[idx:idx+NUM_FRAMES])\n",
    "                y.append(genres.index(lbl))\n",
    "                idx += NUM_FRAMES*skip_factor\n",
    "        except:\n",
    "            continue\n",
    "            \n",
    "        sys.stdout.write(f'\\rGenerating {target_file} data: {int((file_num+1)*100/len(files))}% ({file_num+1})')\n",
    "        sys.stdout.flush()\n",
    "    \n",
    "    save_data((X,y), target_file)\n",
    "    print()\n",
    "      \n",
    "    \n",
    "if PREPROCESS is True:\n",
    "    generate_data(train_files, genres, target_file='train')\n",
    "    generate_data(test_files, genres, target_file='test')"
   ]
  },
  {
   "cell_type": "markdown",
   "metadata": {},
   "source": [
    "#### Load data from file"
   ]
  },
  {
   "cell_type": "code",
   "execution_count": 8,
   "metadata": {},
   "outputs": [
    {
     "name": "stdout",
     "output_type": "stream",
     "text": [
      "Loaded 61829 sequences from train file.\n",
      "Loaded 7152 sequences from test file.\n",
      "Loaded 10 classes and weights.\n"
     ]
    }
   ],
   "source": [
    "X_train, y_train = load_data('train')\n",
    "X_train, y_train = shuffle(X_train, y_train)\n",
    "print(f'Loaded {len(y_train)} sequences from train file.')\n",
    "\n",
    "X_test, y_test = load_data('test')\n",
    "print(f'Loaded {len(y_test)} sequences from test file.')\n",
    "\n",
    "genres, class_weights = load_data('class_weights')\n",
    "print(f'Loaded {len(genres)} classes and weights.')"
   ]
  },
  {
   "cell_type": "markdown",
   "metadata": {},
   "source": [
    "#### Plot a single sample"
   ]
  },
  {
   "cell_type": "code",
   "execution_count": 9,
   "metadata": {},
   "outputs": [
    {
     "data": {
      "image/png": "[encoded data removed]",
      "text/plain": [
       "<Figure size 1152x432 with 2 Axes>"
      ]
     },
     "metadata": {},
     "output_type": "display_data"
    }
   ],
   "source": [
    "def plot_mfcc(x_mfcc, y):\n",
    "    plt.figure(figsize=(16, 6))\n",
    "    librosa.display.specshow(np.transpose(x_mfcc))\n",
    "    plt.colorbar()\n",
    "    plt.title(f'MFCC ({y})')\n",
    "    plt.tight_layout()\n",
    "    plt.show()\n",
    "    \n",
    "plot_mfcc(X_train[0], genres[y_train[0]])"
   ]
  },
  {
   "cell_type": "markdown",
   "metadata": {},
   "source": [
    "## Baseline Random Prediction"
   ]
  },
  {
   "cell_type": "markdown",
   "metadata": {},
   "source": [
    "In order to evaluate a model's performance, we need to consider a random classification baseline where we take the class distribution into account (as our dataset is imbalanced). The distribution can be inferred by the class weights that we computed during preprocessing."
   ]
  },
  {
   "cell_type": "markdown",
   "metadata": {},
   "source": [
    "#### Performance metric"
   ]
  },
  {
   "cell_type": "code",
   "execution_count": 10,
   "metadata": {},
   "outputs": [],
   "source": [
    "def compute_metrics(y_true, y_pred):\n",
    "    print('Accuracy:', str(int(metrics.accuracy_score(y_true, y_pred)*100)) + '%\\n')\n",
    "    print(metrics.classification_report(y_true, y_pred))"
   ]
  },
  {
   "cell_type": "markdown",
   "metadata": {},
   "source": [
    "#### Baseline performance"
   ]
  },
  {
   "cell_type": "code",
   "execution_count": 11,
   "metadata": {},
   "outputs": [
    {
     "name": "stdout",
     "output_type": "stream",
     "text": [
      "Accuracy: 13%\n",
      "\n",
      "             precision    recall  f1-score   support\n",
      "\n",
      "          0       0.15      0.15      0.15      1045\n",
      "          1       0.14      0.14      0.14       958\n",
      "          2       0.15      0.14      0.15      1040\n",
      "          3       0.14      0.15      0.14       964\n",
      "          4       0.20      0.17      0.18      1203\n",
      "          5       0.13      0.13      0.13       952\n",
      "          6       0.07      0.07      0.07       570\n",
      "          7       0.02      0.03      0.02       150\n",
      "          8       0.02      0.02      0.02       170\n",
      "          9       0.03      0.04      0.04       100\n",
      "\n",
      "avg / total       0.14      0.13      0.14      7152\n",
      "\n",
      "0: Rock\n",
      "1: Hip-Hop\n",
      "2: Folk\n",
      "3: Electronic\n",
      "4: Classical\n",
      "5: Pop\n",
      "6: Jazz\n",
      "7: Country\n",
      "8: Soul-RnB\n",
      "9: Blues\n"
     ]
    }
   ],
   "source": [
    "class_prob = (1/class_weights)/(sum(1/class_weights))\n",
    "y_brp = np.random.choice(NUM_CLASSES, len(y_test), p=class_prob)\n",
    "\n",
    "compute_metrics(y_test, y_brp)\n",
    "\n",
    "for i in range(10):\n",
    "    print(f'{i}: {genres[i]}')"
   ]
  },
  {
   "cell_type": "markdown",
   "metadata": {},
   "source": [
    "## K-Nearest Neighbors"
   ]
  },
  {
   "cell_type": "markdown",
   "metadata": {},
   "source": [
    "We will be using the traditional KNN classifier as a performance baseline. Because prediction time scales linearly with the number of dimensions, it is necessary to transform the features to a smaller dimensional space before feeding it into the classifier. We have chosen to use the sum of each frequency band across all timesteps as our transformation. This transformation completely discards the temporal information that we have available but that should be considered a limitation of the traditional KNN classifier."
   ]
  },
  {
   "cell_type": "markdown",
   "metadata": {},
   "source": [
    "#### Feature transform for KNN"
   ]
  },
  {
   "cell_type": "code",
   "execution_count": 12,
   "metadata": {},
   "outputs": [],
   "source": [
    "X_knn_train = np.array([np.sum(x, axis=0) for x in X_train])\n",
    "y_knn_train = y_train\n",
    "\n",
    "X_knn_test = np.array([np.sum(x, axis=0) for x in X_test])\n",
    "y_knn_test = y_test"
   ]
  },
  {
   "cell_type": "markdown",
   "metadata": {},
   "source": [
    "#### KNN"
   ]
  },
  {
   "cell_type": "code",
   "execution_count": 13,
   "metadata": {},
   "outputs": [
    {
     "name": "stdout",
     "output_type": "stream",
     "text": [
      "Accuracy: 44%\n",
      "\n",
      "             precision    recall  f1-score   support\n",
      "\n",
      "          0       0.39      0.60      0.47      1045\n",
      "          1       0.40      0.55      0.46       958\n",
      "          2       0.43      0.38      0.40      1040\n",
      "          3       0.38      0.33      0.35       964\n",
      "          4       0.77      0.78      0.78      1203\n",
      "          5       0.31      0.17      0.22       952\n",
      "          6       0.26      0.19      0.22       570\n",
      "          7       0.40      0.43      0.42       150\n",
      "          8       0.34      0.20      0.25       170\n",
      "          9       0.42      0.22      0.29       100\n",
      "\n",
      "avg / total       0.44      0.45      0.43      7152\n",
      "\n"
     ]
    }
   ],
   "source": [
    "knn = neighbors.KNeighborsClassifier(n_neighbors=3)\n",
    "knn.fit(X_knn_train, y_knn_train)\n",
    "y_pred = knn.predict(X_knn_test)\n",
    "\n",
    "compute_metrics(y_test, y_pred)"
   ]
  },
  {
   "cell_type": "markdown",
   "metadata": {},
   "source": [
    "## Neural Network"
   ]
  },
  {
   "cell_type": "markdown",
   "metadata": {},
   "source": [
    "To improve classification performance, we choose to model the problem using a neural architecture. More specifically, we construct a deep convolutional neural network using 2D convolution, treating the MFCC features as an image."
   ]
  },
  {
   "cell_type": "markdown",
   "metadata": {},
   "source": [
    "#### Global parameters"
   ]
  },
  {
   "cell_type": "code",
   "execution_count": 71,
   "metadata": {},
   "outputs": [
    {
     "name": "stdout",
     "output_type": "stream",
     "text": [
      "CUDA has been enabled.\n"
     ]
    }
   ],
   "source": [
    "BATCH_SIZE = 256\n",
    "CUDA = torch.cuda.is_available() # Check if we have a GPU available\n",
    "\n",
    "print('CUDA has been enabled.' if CUDA else 'CUDA has been disabled.')"
   ]
  },
  {
   "cell_type": "markdown",
   "metadata": {},
   "source": [
    "#### Data partitioning"
   ]
  },
  {
   "cell_type": "code",
   "execution_count": 15,
   "metadata": {},
   "outputs": [
    {
     "name": "stdout",
     "output_type": "stream",
     "text": [
      "Generated (217, 24, 27) batches for training, validation and test.\n"
     ]
    }
   ],
   "source": [
    "def convert_to_batches(data, is_y = False):\n",
    "    '''\n",
    "    Converts a list of numpy arrays to a list of\n",
    "    batched numpy arrays of size BATCH_SIZE.\n",
    "    '''\n",
    "    batches, i = [], 0\n",
    "\n",
    "    while i < len(data)-BATCH_SIZE:\n",
    "        arr = data[i:i+BATCH_SIZE] if is_y is False else data[i:i+BATCH_SIZE]\n",
    "        var = Variable(torch.from_numpy(np.array(arr)).float())\n",
    "        batches.append(var)\n",
    "        i += BATCH_SIZE\n",
    "        \n",
    "    return batches\n",
    "\n",
    "\n",
    "X_train, X_val, y_train, y_val = model_selection.train_test_split(X_train, y_train, test_size=0.1)\n",
    "\n",
    "X_train, X_val, X_test = convert_to_batches(X_train), convert_to_batches(X_val), convert_to_batches(X_test)\n",
    "y_train, y_val, y_test = convert_to_batches(y_train, is_y=True), convert_to_batches(y_val, is_y=True), convert_to_batches(y_test, is_y=True)\n",
    "\n",
    "print(f'Generated ({len(y_train)}, {len(y_val)}, {len(y_test)}) batches for training, validation and test.')"
   ]
  },
  {
   "cell_type": "markdown",
   "metadata": {},
   "source": [
    "#### Network parameters"
   ]
  },
  {
   "cell_type": "code",
   "execution_count": 54,
   "metadata": {},
   "outputs": [],
   "source": [
    "NUM_CHANNELS = 32, 32, 32\n",
    "KERNEL_SIZE = 5, 3\n",
    "MAXPOOL_SIZE = 4, 2"
   ]
  },
  {
   "cell_type": "markdown",
   "metadata": {},
   "source": [
    "#### Baseline network"
   ]
  },
  {
   "cell_type": "code",
   "execution_count": 55,
   "metadata": {},
   "outputs": [
    {
     "name": "stdout",
     "output_type": "stream",
     "text": [
      "Net(\n",
      "  (pool): MaxPool2d(kernel_size=(4, 2), stride=(4, 2), padding=0, dilation=1, ceil_mode=False)\n",
      "  (a): ReLU()\n",
      "  (conv0): Conv2d(1, 32, kernel_size=(5, 3), stride=(1, 1))\n",
      "  (conv1): Conv2d(32, 32, kernel_size=(5, 3), stride=(1, 1))\n",
      "  (conv2): Conv2d(32, 32, kernel_size=(5, 3), stride=(1, 1))\n",
      "  (lin): Linear(in_features=1152, out_features=32, bias=True)\n",
      "  (batchnorm): BatchNorm1d(32, eps=1e-05, momentum=0.1, affine=True, track_running_stats=True)\n",
      "  (out): Linear(in_features=32, out_features=10, bias=False)\n",
      "  (softmax): Softmax()\n",
      ") \n",
      "\n",
      "Successfully passed data through network.\n"
     ]
    }
   ],
   "source": [
    "class Net(nn.Module):\n",
    "    \n",
    "    def __init__(self):\n",
    "        super(Net, self).__init__()\n",
    "        \n",
    "        # Pool to be used in convolution\n",
    "        self.pool = nn.MaxPool2d(kernel_size=MAXPOOL_SIZE)\n",
    "        \n",
    "        # Activation function\n",
    "        self.a = nn.ReLU()\n",
    "        \n",
    "        # Conv layers\n",
    "        self.conv0 = nn.Conv2d(1, NUM_CHANNELS[0], kernel_size=KERNEL_SIZE)\n",
    "        self.conv1 = nn.Conv2d(NUM_CHANNELS[0], NUM_CHANNELS[1], kernel_size=KERNEL_SIZE)\n",
    "        self.conv2 = nn.Conv2d(NUM_CHANNELS[1], NUM_CHANNELS[2], kernel_size=KERNEL_SIZE)\n",
    "        \n",
    "        # FC layers\n",
    "        self.lin = nn.Linear(1152, 32)\n",
    "        self.batchnorm = nn.BatchNorm1d(32)\n",
    "        \n",
    "        self.out = nn.Linear(32, NUM_CLASSES, bias=False)\n",
    "        self.softmax = nn.Softmax(dim=1)\n",
    "    \n",
    "    \n",
    "    def forward(self, x):\n",
    "        x = x.reshape((BATCH_SIZE, 1, NUM_FRAMES, MFCC_COEFFICIENTS))\n",
    "        x = self.pool(F.relu(self.conv0(x)))\n",
    "        x = self.pool(F.relu(self.conv1(x)))\n",
    "        x = x.view(BATCH_SIZE, -1)\n",
    "        x = self.a(self.batchnorm(self.lin(x)))\n",
    "        return self.softmax(self.out(x))\n",
    "    \n",
    "\n",
    "net = Net()\n",
    "print(net, '\\n')\n",
    "\n",
    "try:\n",
    "    out = net(X_train[0])\n",
    "    print('Successfully passed data through network.')\n",
    "except Exception as e:\n",
    "    print('An error occurred while passing data through network:\\n' + str(e))"
   ]
  },
  {
   "cell_type": "markdown",
   "metadata": {},
   "source": [
    "#### Train"
   ]
  },
  {
   "cell_type": "code",
   "execution_count": 56,
   "metadata": {},
   "outputs": [],
   "source": [
    "def accuracy(out, y):\n",
    "    '''\n",
    "    Calculate accuracy of model where\n",
    "    out.shape = (batches, classes) and y.shape = (batches)\n",
    "    '''\n",
    "    out = torch.max(out, 1)[1].float()\n",
    "    eq = torch.eq(out, y.float()).float()\n",
    "    return torch.mean(eq)\n",
    "\n",
    "\n",
    "def train_net(net, epochs=50, lr=1e-3, class_weights=None, verbose=True):\n",
    "    \n",
    "    # Transform class weights to Tensor\n",
    "    weight = torch.Tensor(class_weights) if class_weights is not None else None\n",
    "    \n",
    "    # Move network to GPU if available\n",
    "    if CUDA: net.cuda()\n",
    "    if CUDA and weight is not None: weight = weight.cuda()\n",
    "    \n",
    "    criterion = nn.CrossEntropyLoss(weight=weight)\n",
    "    optimizer = optim.Adam(net.parameters(), lr=lr, weight_decay=lr/100)\n",
    "    losses, accs, val_losses, val_accs = [], [], [], []\n",
    "    \n",
    "    if verbose:\n",
    "        start_time = time.time()\n",
    "    \n",
    "    def plot(losses, accs, val_losses, val_accs):\n",
    "        '''\n",
    "        Continously plots the training/validation loss and accuracy\n",
    "        of the model being trained. This functions is only called if\n",
    "        verbose is True for the training session.\n",
    "        '''\n",
    "        e = [i for i in range(len(losses))]\n",
    "        fig = plt.figure(figsize=(12,4))\n",
    "        plt.subplot(1, 2, 1)\n",
    "        plt.plot(e, losses, label='Loss (Training)')\n",
    "        \n",
    "        plt.plot(e, val_losses, label='Loss (Validation)')\n",
    "            \n",
    "        plt.legend()\n",
    "        plt.subplot(1, 2, 2)\n",
    "        plt.plot(e, accs, label='Accuracy (Training)')\n",
    "        \n",
    "        plt.plot(e, val_accs, label='Accuracy (Validation)')\n",
    "            \n",
    "        plt.legend()\n",
    "        plt.show()\n",
    "        clear_output(wait=True)\n",
    "    \n",
    "    def run(net, X, y, optimize = False):\n",
    "        '''\n",
    "        This function constitutes a single epoch.\n",
    "        If optimize is True, the associated optimizer will backpropagate\n",
    "        and adjust network weights.\n",
    "        Returns the average sample loss and accuracy for that epoch.\n",
    "        '''\n",
    "        epoch_loss, epoch_acc = 0, []\n",
    "        \n",
    "        if len(X) == 0 or len(y) == 0:\n",
    "            raise ParameterError('Something went wrong. Invalid input!')\n",
    "        \n",
    "        # Helper function responsible for running a batch\n",
    "        def run_batch(X, y, epoch_loss, epoch_acc):\n",
    "\n",
    "            y = y.long()\n",
    "\n",
    "            if CUDA:\n",
    "                X = X.cuda()\n",
    "                y = y.cuda()\n",
    "\n",
    "            out = net(X)\n",
    "\n",
    "            # Compute loss and accuracy for batch\n",
    "            batch_loss = criterion(out, y)\n",
    "            batch_acc = accuracy(out, y)  \n",
    "\n",
    "            # If training session, initiate backpropagation and optimization\n",
    "            if optimize == True:\n",
    "                optimizer.zero_grad()\n",
    "                batch_loss.backward()\n",
    "                optimizer.step()\n",
    "\n",
    "            if CUDA:\n",
    "                batch_acc = batch_acc.cpu()\n",
    "                batch_loss = batch_loss.cpu()\n",
    "\n",
    "            # Accumulate loss and accuracy for epoch metrics\n",
    "            epoch_loss += batch_loss.data.numpy() / float(BATCH_SIZE)\n",
    "            epoch_acc.append(batch_acc.data.numpy())\n",
    "\n",
    "            return epoch_loss, epoch_acc\n",
    "\n",
    "        # For each batch\n",
    "        for i,x in enumerate(X):\n",
    "            temp_loss, temp_acc = run_batch(x, y[i], epoch_loss, epoch_acc)\n",
    "            epoch_loss += temp_loss / float(len(X))\n",
    "            epoch_acc.append(np.mean(temp_acc))\n",
    "\n",
    "        return epoch_loss, np.mean(epoch_acc)\n",
    "    \n",
    "    \n",
    "    # Iterate over training epochs\n",
    "    for epoch in range(epochs):\n",
    "        \n",
    "        net.train()\n",
    "        loss, acc = run(net, X_train, y_train, optimize=True)\n",
    "        losses.append(loss)\n",
    "        accs.append(acc)\n",
    "        \n",
    "        net.eval()\n",
    "        val_loss, val_acc = run(net, X_test, y_test)\n",
    "        val_losses.append(val_loss)\n",
    "        val_accs.append(val_acc)\n",
    "\n",
    "        # Optionally plot performance metrics continously\n",
    "        if verbose:\n",
    "            \n",
    "            # Print measured wall-time of first epoch\n",
    "            if epoch == 0:\n",
    "                dur = str(int((time.time() - start_time)/60))\n",
    "                print(f'\\nEpoch wall-time: {dur} min')\n",
    "                \n",
    "            plot(losses, accs, val_losses, val_accs)\n",
    "            \n",
    "    return net"
   ]
  },
  {
   "cell_type": "markdown",
   "metadata": {},
   "source": [
    "#### Test"
   ]
  },
  {
   "cell_type": "code",
   "execution_count": 64,
   "metadata": {},
   "outputs": [],
   "source": [
    "def evaluate_net(net):\n",
    "    '''\n",
    "    Evaluates a neural network using data defined\n",
    "    by the X_test and y_test arrays. In order to\n",
    "    evaluate the network, data dimensions obviously\n",
    "    need to match the input size of the network.\n",
    "    '''\n",
    "    y_pred, y_true = [], []\n",
    "\n",
    "    for idx, X in enumerate(X_test):\n",
    "\n",
    "        y = y_test[idx]\n",
    "        out = torch.argmax(net(X.cuda()), dim=1).cpu().data.numpy()\n",
    "\n",
    "        y_pred.append(out)\n",
    "        y_true.append(y.data.numpy().astype(int))\n",
    "\n",
    "    y_pred = np.array(y_pred).flatten()\n",
    "    y_true = np.array(y_true).flatten()\n",
    "\n",
    "    compute_metrics(y_true, y_pred)"
   ]
  },
  {
   "cell_type": "markdown",
   "metadata": {},
   "source": [
    "#### Baseline"
   ]
  },
  {
   "cell_type": "code",
   "execution_count": 74,
   "metadata": {},
   "outputs": [
    {
     "data": {
      "image/png": "[encoded data removed]",
      "text/plain": [
       "<Figure size 864x288 with 2 Axes>"
      ]
     },
     "metadata": {},
     "output_type": "display_data"
    }
   ],
   "source": [
    "set_seed()\n",
    "net = train_net(Net())"
   ]
  },
  {
   "cell_type": "code",
   "execution_count": 75,
   "metadata": {},
   "outputs": [
    {
     "name": "stdout",
     "output_type": "stream",
     "text": [
      "Accuracy: 55%\n",
      "\n",
      "             precision    recall  f1-score   support\n",
      "\n",
      "          0       0.58      0.68      0.62      1045\n",
      "          1       0.61      0.76      0.68       958\n",
      "          2       0.52      0.47      0.49      1040\n",
      "          3       0.54      0.62      0.58       964\n",
      "          4       0.84      0.76      0.80      1153\n",
      "          5       0.36      0.27      0.31       952\n",
      "          6       0.28      0.42      0.34       460\n",
      "          7       0.00      0.00      0.00       120\n",
      "          8       0.00      0.00      0.00       140\n",
      "          9       0.00      0.00      0.00        80\n",
      "\n",
      "avg / total       0.53      0.56      0.54      6912\n",
      "\n"
     ]
    },
    {
     "name": "stderr",
     "output_type": "stream",
     "text": [
      "C:\\Users\\nickl\\AppData\\Local\\Continuum\\anaconda3\\lib\\site-packages\\sklearn\\metrics\\classification.py:1135: UndefinedMetricWarning: Precision and F-score are ill-defined and being set to 0.0 in labels with no predicted samples.\n",
      "  'precision', 'predicted', average, warn_for)\n"
     ]
    }
   ],
   "source": [
    "evaluate_net(net)"
   ]
  },
  {
   "cell_type": "markdown",
   "metadata": {},
   "source": [
    "#### Class weights"
   ]
  },
  {
   "cell_type": "code",
   "execution_count": 72,
   "metadata": {},
   "outputs": [
    {
     "data": {
      "image/png": "[encoded data removed]",
      "text/plain": [
       "<Figure size 864x288 with 2 Axes>"
      ]
     },
     "metadata": {},
     "output_type": "display_data"
    }
   ],
   "source": [
    "set_seed()\n",
    "net = train_net(Net(), class_weights=class_weights)"
   ]
  },
  {
   "cell_type": "code",
   "execution_count": 73,
   "metadata": {},
   "outputs": [
    {
     "name": "stdout",
     "output_type": "stream",
     "text": [
      "Accuracy: 54%\n",
      "\n",
      "             precision    recall  f1-score   support\n",
      "\n",
      "          0       0.53      0.73      0.61      1045\n",
      "          1       0.73      0.63      0.67       958\n",
      "          2       0.60      0.42      0.49      1040\n",
      "          3       0.50      0.66      0.57       964\n",
      "          4       0.75      0.85      0.79      1153\n",
      "          5       0.30      0.12      0.18       952\n",
      "          6       0.25      0.32      0.28       460\n",
      "          7       0.24      0.21      0.22       120\n",
      "          8       0.30      0.27      0.28       140\n",
      "          9       0.14      0.21      0.17        80\n",
      "\n",
      "avg / total       0.53      0.54      0.53      6912\n",
      "\n"
     ]
    }
   ],
   "source": [
    "evaluate_net(net)"
   ]
  }
 ],
 "metadata": {
  "kernelspec": {
   "display_name": "Python 3",
   "language": "python",
   "name": "python3"
  },
  "language_info": {
   "codemirror_mode": {
    "name": "ipython",
    "version": 3
   },
   "file_extension": ".py",
   "mimetype": "text/x-python",
   "name": "python",
   "nbconvert_exporter": "python",
   "pygments_lexer": "ipython3",
   "version": "3.6.5"
  }
 },
 "nbformat": 4,
 "nbformat_minor": 2
}
