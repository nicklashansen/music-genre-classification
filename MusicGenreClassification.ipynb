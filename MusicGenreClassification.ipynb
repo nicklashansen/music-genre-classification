{
 "cells": [
  {
   "cell_type": "markdown",
   "metadata": {},
   "source": [
    "#### Exam project on\n",
    "# Audio Features for Music Genre Classification\n",
    "### 02452 - Audio Information Processing Systems\n",
    "\n",
    "#### Nicklas Hansen (s153077) & Bragi Marinosson (s185510)"
   ]
  },
  {
   "cell_type": "markdown",
   "metadata": {},
   "source": [
    "This notebook contains code and results for the exam project on Music Genre Classification for the 02452 graduate course offered at the Technical University of Denmark (DTU). Work has been equally distributed between the two authors and any questions can be directed at either of us.\n",
    "\n",
    "The work presented in this notebook is to be considered open source under the MIT License. If you found this code useful in your research, then please cite\n",
    "\n",
    "\n",
    "```\n",
    "@inproceedings{mgc-hansen-marinosson,\n",
    "  title={Audio Features for Music Genre Classification},\n",
    "  author={Hansen, Nicklas and Marinosson, Bragi},\n",
    "  year={2019}\n",
    "}\n",
    "```"
   ]
  },
  {
   "cell_type": "markdown",
   "metadata": {},
   "source": [
    "#### Data"
   ]
  },
  {
   "cell_type": "markdown",
   "metadata": {},
   "source": [
    "Raw, high-quality MP3-encoded audio data (30 s per sample) and genre classifications from the Free Music Archive (FMA) dataset is used in this study. For more information on the dataset, visit https://github.com/mdeff/fma/ and/or read the paper *FMA: A Dataset For Music Analysis*, Michaël Defferrard, Kirell Benzi, Pierre Vandergheynst, Xavier Bresson (2017).\n",
    "\n",
    "As the original dataset contains 105 GB of audio data, we do not make that data available directly. To get your hands on the raw data, refer to the aforementioned website and paper. The original dataset is required in order to run the preprocessing steps in this code. Optionally, you can skip this step by setting the ``PREPROCESS`` global parameter to ``False`` and instead downloading our preprocessed data, which only takes up roughly 2 GB and saves you a lot of time. The preprocessed data is made available at the following link:\n",
    "\n",
    "https://1drv.ms/u/s!AnqePMbr4kj8nvA7HBGWzBJIvOB-9w\n",
    "\n",
    "Please note that we cannot guarantee the availability of this data indefinitely. Therefore, you may have to rerun the preprocessing step yourself in the future."
   ]
  },
  {
   "cell_type": "markdown",
   "metadata": {},
   "source": [
    "#### Setup\n",
    "\n",
    "All code was developed and tested on Windows 10 (version 10.0.17134) with Python 3.7 and has been verified to work both with and without a GPU, although it is highly recommended to use one during training of neural networks as it decreases wall time significantly. For this study, a GTX1080 unit was used on a computer with 16 GB RAM, but less should be sufficient."
   ]
  },
  {
   "cell_type": "markdown",
   "metadata": {},
   "source": [
    "#### Imports\n",
    "\n",
    "Required dependencies are listed as imports below. If you intend to run this code on your own machine, please make sure that you have installed all of the below dependencies before proceeding."
   ]
  },
  {
   "cell_type": "code",
   "execution_count": 1,
   "metadata": {},
   "outputs": [
    {
     "name": "stderr",
     "output_type": "stream",
     "text": [
      "C:\\Users\\nickl\\AppData\\Local\\Continuum\\anaconda3\\lib\\site-packages\\h5py\\__init__.py:36: FutureWarning: Conversion of the second argument of issubdtype from `float` to `np.floating` is deprecated. In future, it will be treated as `np.float64 == np.dtype(float).type`.\n",
      "  from ._conv import register_converters as _register_converters\n"
     ]
    }
   ],
   "source": [
    "import os\n",
    "import sys\n",
    "import numpy as np\n",
    "import h5py\n",
    "import pickle\n",
    "import collections\n",
    "from collections import defaultdict\n",
    "from random import shuffle\n",
    "import matplotlib.pyplot as plt\n",
    "from sklearn import model_selection, neighbors, metrics, preprocessing\n",
    "from sklearn.utils import shuffle\n",
    "import time\n",
    "from IPython.display import clear_output\n",
    "import librosa\n",
    "from librosa import display\n",
    "import pandas as pd\n",
    "import torch\n",
    "import torch.nn as nn\n",
    "from torch.nn import Linear, RNN, LSTM\n",
    "import torch.nn.functional as F\n",
    "from torch.nn.functional import softmax, relu\n",
    "from torch.autograd import Variable\n",
    "import torch.optim as optim"
   ]
  },
  {
   "cell_type": "markdown",
   "metadata": {},
   "source": [
    "#### Working directory as data path"
   ]
  },
  {
   "cell_type": "markdown",
   "metadata": {},
   "source": [
    "You need to set this path to the root of the dataset, keeping all folders as is, but removing files in the root directory that are not MP3 files as the code does not check for this (resulting in less operations)."
   ]
  },
  {
   "cell_type": "code",
   "execution_count": 2,
   "metadata": {},
   "outputs": [],
   "source": [
    "os.chdir('C:/FMA/')"
   ]
  },
  {
   "cell_type": "markdown",
   "metadata": {},
   "source": [
    "#### Path to additional files"
   ]
  },
  {
   "cell_type": "markdown",
   "metadata": {},
   "source": [
    "You need to set this path to a location that either contains files related to this code or a location in which you want to store such files."
   ]
  },
  {
   "cell_type": "code",
   "execution_count": 3,
   "metadata": {},
   "outputs": [],
   "source": [
    "GENRES = 'C:/Users/nickl/OneDrive/DTU_2019/Audio Information Processing Systems/Music Genre Classification/'"
   ]
  },
  {
   "cell_type": "markdown",
   "metadata": {},
   "source": [
    "#### Set global seed for reproducibility"
   ]
  },
  {
   "cell_type": "code",
   "execution_count": 4,
   "metadata": {},
   "outputs": [],
   "source": [
    "def set_seed(seed = int(0x02452)):\n",
    "    torch.manual_seed(seed)\n",
    "    torch.cuda.manual_seed(seed)\n",
    "    np.random.seed = seed\n",
    "    \n",
    "set_seed()"
   ]
  },
  {
   "cell_type": "markdown",
   "metadata": {},
   "source": [
    "#### Global parameters"
   ]
  },
  {
   "cell_type": "markdown",
   "metadata": {},
   "source": [
    "``PREPROCESS`` determines whether the code should redo the preprocessing step or not. If you already preprocessed the original data or downloaded our preprocessed files, you can set ``PREPROCESS`` to ``False`` for a significant speed-up. Otherwise, you will have to complete the preprocessing step.\n",
    "\n",
    "``NUM_CLASSES`` determines the number of genres to be used for classification. In this study we use 7 classes, but in principle this could be any number of classes (up to the number of genres in the dataset). Aside from the discarded classes as noted in the ``load_tracklist`` function, the classes used are selected based on the number of available samples (favoring a high count). A hard limit of 1000 audio files per genre has been set to decrease class imbalance.\n",
    "\n",
    "``NUM_FRAMES`` determines the number of frames used in each audio segment. Due to a window size of 2048 and a hop length of 1024, we require 128 frames to represent 3 seconds of audio as used in our study.\n",
    "\n",
    "``MFCC_COEFFICIENTS`` determines the number of MFCC coefficients (frequency bands) to be used to model the Mel-frequency spectrum of the audio signal. A high number of coefficents produces a good frequency resolution but also requires proportionally more space and computation."
   ]
  },
  {
   "cell_type": "code",
   "execution_count": 5,
   "metadata": {},
   "outputs": [],
   "source": [
    "PREPROCESS = False\n",
    "RERUN_BASELINES = True\n",
    "\n",
    "NUM_CLASSES = 7\n",
    "NUM_FRAMES = 128\n",
    "MFCC_COEFFICIENTS = 32\n",
    "\n",
    "np.set_printoptions(precision=2)"
   ]
  },
  {
   "cell_type": "markdown",
   "metadata": {},
   "source": [
    "#### Get all available files"
   ]
  },
  {
   "cell_type": "code",
   "execution_count": 6,
   "metadata": {
    "scrolled": true
   },
   "outputs": [],
   "source": [
    "def load_data(target_file='train'):\n",
    "    '''\n",
    "    Loads any data from target location.\n",
    "    '''\n",
    "    with open(GENRES + target_file + '.pickle', 'rb') as handle:\n",
    "        return pickle.load(handle)\n",
    "    \n",
    "    \n",
    "def save_data(data, target_file='train'):\n",
    "    '''\n",
    "    Saves any data to target location.\n",
    "    '''\n",
    "    with open(GENRES + target_file + '.pickle', 'wb') as handle:\n",
    "        pickle.dump(data, handle, protocol=pickle.HIGHEST_PROTOCOL)\n",
    "    \n",
    "\n",
    "def load_tracklist(discarded_genres=['Experimental', 'International', 'Instrumental', 'Old-Time / Historic', 'Spoken']):\n",
    "    '''\n",
    "    Load list of tracks with genre information as data frame.\n",
    "    '''\n",
    "    tracklist = pd.read_csv(GENRES + 'genres.csv').set_index('id', drop=True)\n",
    "    \n",
    "    tracklist = tracklist[tracklist.genre.notnull()]\n",
    "    for genre in discarded_genres:\n",
    "        tracklist = tracklist[tracklist.genre != genre]\n",
    "\n",
    "    return tracklist\n",
    "\n",
    "\n",
    "def get_file_list(verbose=False):\n",
    "    '''\n",
    "    Returns a list of all .h5 files in current working directory.\n",
    "    '''\n",
    "    files = []\n",
    "    for r, d, f in os.walk(os.getcwd()):\n",
    "        for file in f:\n",
    "            if '.mp3' in file:\n",
    "                files.append(os.path.join(r, file))\n",
    "\n",
    "    print(f'Found {len(files)} files!')\n",
    "    return files\n",
    "\n",
    "\n",
    "def train_test_split(files, test_num=None, p=None):\n",
    "    '''\n",
    "    Returns two lists (train and test). If test_num is\n",
    "    not None, the second list will contain test_num number\n",
    "    of elements and the first list contains the remainder.\n",
    "    If p is not None, lists are populated such that the first\n",
    "    list contains elements selected with p probability\n",
    "    and the second list contains elements selected with\n",
    "    1-p probability (at random).\n",
    "    '''\n",
    "    if test_num is not None:\n",
    "        return files[:-test_num], files[-test_num:]\n",
    "    \n",
    "    elif p is not None:\n",
    "        lsts = [], []\n",
    "        for file in files:\n",
    "            a = np.random.choice(2, 1, p=[p, 1-p])[0]\n",
    "            lsts[a].append(file)\n",
    "        return lsts\n",
    "    \n",
    "    raise ParameterError('Either test_num or p must have a value!')\n",
    "\n",
    "    \n",
    "def id_from_filename(file):\n",
    "    return str(int(file.split('\\\\')[-1].split('.')[0]))\n",
    "    \n",
    "\n",
    "def get_top_genres(genre_dict):\n",
    "    '''\n",
    "    Returns the top occurring genres as a list.\n",
    "    '''\n",
    "    lst = sorted(genre_dict, key=genre_dict.get, reverse=True)\n",
    "    return lst[:NUM_CLASSES] if len(lst) > NUM_CLASSES else lst\n",
    "    \n",
    "    \n",
    "def files_with_available_genre(files, predefined_tracklist=None, genre_cap=None, return_genre_count=False, verbose=False):\n",
    "    \n",
    "    lst, genres, tracklist = [], defaultdict(int), load_tracklist()\n",
    "\n",
    "    for file in files:\n",
    "        idx = id_from_filename(file)\n",
    "        \n",
    "        try:\n",
    "            g = tracklist.loc[idx].genre\n",
    "            \n",
    "            if genre_cap is not None and genres[g] >= 1000:\n",
    "                continue\n",
    "                \n",
    "            if (predefined_tracklist is None or g in predefined_tracklist):\n",
    "                lst.append(file)\n",
    "                genres[g] += 1\n",
    "        except:\n",
    "            continue\n",
    "    \n",
    "    if predefined_tracklist is None:\n",
    "        print(f'Found {len(lst)} files with labels!')\n",
    "    else:\n",
    "        print(f'Found {len(lst)} files with labels among top {NUM_CLASSES} genres!')\n",
    "    \n",
    "    if return_genre_count is True:\n",
    "        return lst, get_top_genres(genres), genres\n",
    "    \n",
    "    return lst, get_top_genres(genres)\n",
    "\n",
    "\n",
    "if PREPROCESS is True:\n",
    "    files, genres = files_with_available_genre(get_file_list(verbose=True), verbose=True)\n",
    "    files, genres, genre_count = files_with_available_genre(shuffle(files), genres, genre_cap=1000, return_genre_count=True, verbose=True)\n",
    "    \n",
    "    train_files, test_files = train_test_split(files, p=0.9)\n",
    "    class_weights = np.array([1/(genre_count[g]/(len(files)/NUM_CLASSES)) for g in genres])\n",
    "\n",
    "    save_data((genres, class_weights), 'class_weights')\n",
    "    \n",
    "    print('\\nTrain files:', len(train_files), '\\nTest  files:', len(test_files), '\\n\\nClasses and class weights:')\n",
    "    print(genres)\n",
    "    print(class_weights)"
   ]
  },
  {
   "cell_type": "markdown",
   "metadata": {},
   "source": [
    "#### Extract features"
   ]
  },
  {
   "cell_type": "code",
   "execution_count": 7,
   "metadata": {},
   "outputs": [],
   "source": [
    "def mfcc_from_audio(x, sr, n_mfcc=MFCC_COEFFICIENTS):\n",
    "    '''\n",
    "    Computes MFCCs of an audio file.\n",
    "    '''\n",
    "    return librosa.feature.mfcc(x, sr, n_mfcc=n_mfcc, n_fft=2048, hop_length=1024)\n",
    "\n",
    "\n",
    "def chromas_from_audio(x, sr):\n",
    "    '''\n",
    "    Computes chroma features of an audio file.\n",
    "    '''\n",
    "    return librosa.feature.chroma_stft(y=x, sr=sr, n_fft=2048, hop_length=1024)\n",
    "\n",
    "\n",
    "def tempo_from_audio(x, sr):\n",
    "    '''\n",
    "    Computes the tempo (bpm) for each segment of an audio file.\n",
    "    '''\n",
    "    tempo = np.zeros((10,))\n",
    "    shft = 3*sr\n",
    "    for i in range(10):\n",
    "        if (i+1)*shft>x.shape[0]:\n",
    "            onset_env = librosa.onset.onset_strength(x[i*shft:], sr=sr)\n",
    "            tempo[i] = librosa.beat.tempo(x[i*shft:], sr=sr)\n",
    "        else:\n",
    "            onset_env = librosa.onset.onset_strength(x[i*shft:(i+1)*shft], sr=sr)\n",
    "            tempo[i] = librosa.beat.tempo(x[i*shft:(i+1)*shft], sr=sr)\n",
    "    \n",
    "    return tempo\n",
    "\n",
    "\n",
    "def crest_factor_from_audio(x, sr):\n",
    "    '''\n",
    "    Computes the crest factor for 3 second segments of the audio file.\n",
    "    '''\n",
    "    C = np.zeros((10,))\n",
    "    shft = 3*sr\n",
    "    for i in range(10):\n",
    "        if (i+1)*shft>x.shape[0]:\n",
    "            C[i] = np.max(abs(x[i*shft:]))/np.sqrt(np.mean(x[i*shft:]**2))\n",
    "        else:\n",
    "            C[i] = np.max(abs(x[i*shft:(i+1)*shft]))/np.sqrt(np.mean(x[i*shft:(i+1)*shft]**2))\n",
    "    \n",
    "    return 20*np.log10(C)\n",
    "\n",
    "\n",
    "def audio_duration_from_file(file, tracklist=load_tracklist()):\n",
    "    '''\n",
    "    Extracts the audio duration from an audio file.\n",
    "    '''\n",
    "    rec = tracklist.loc[id_from_filename(file)]\n",
    "    return int(rec.duration)\n",
    "\n",
    "\n",
    "def generate_data(files, genres, target_file='train', skip_factor=1):\n",
    "    '''\n",
    "    Generates features and labels from from a sequence\n",
    "    of filenames and stores the resulting data as a\n",
    "    pickle object on the specified path.\n",
    "    '''\n",
    "    tracklist = load_tracklist()\n",
    "    X, y = [], []\n",
    "    \n",
    "    for file_num, file in enumerate(files):\n",
    "        try:\n",
    "            x, sr = librosa.load(file, sr=None)\n",
    "            mfccs = np.transpose(mfcc_from_audio(x, sr))\n",
    "            chromas = np.transpose(chromas_from_audio(x, sr))\n",
    "            tempo = tempo_from_audio(x, sr)\n",
    "            crest = crest_factor_from_audio(x, sr)\n",
    "            dur = audio_duration_from_file(file, tracklist)\n",
    "\n",
    "            idx, lbl, idx_t = 0, tracklist.loc[id_from_filename(file)].genre, 0\n",
    "            while idx < mfccs.shape[0] - NUM_FRAMES:\n",
    "                X.append([mfccs[idx:idx+NUM_FRAMES], chromas[idx:idx+NUM_FRAMES], tempo[idx_t], crest[idx_t], dur])\n",
    "                y.append(genres.index(lbl))\n",
    "                idx += NUM_FRAMES*skip_factor\n",
    "                idx_t += 1\n",
    "            idx, lbl = 0, tracklist.loc[id_from_filename(file)].genre\n",
    "        except KeyboardInterrupt:\n",
    "            raise\n",
    "        except:\n",
    "            continue\n",
    "\n",
    "        sys.stdout.write(f'\\rGenerating {target_file} data: {int((file_num+1)*100/len(files))}% ({file_num+1})')\n",
    "        sys.stdout.flush()\n",
    "    \n",
    "    save_data((X,y), target_file)\n",
    "    \n",
    "    \n",
    "if PREPROCESS is True:\n",
    "    generate_data(train_files, genres, target_file='train')\n",
    "    generate_data(test_files, genres, target_file='test')"
   ]
  },
  {
   "cell_type": "markdown",
   "metadata": {},
   "source": [
    "#### Load data from file"
   ]
  },
  {
   "cell_type": "code",
   "execution_count": 8,
   "metadata": {},
   "outputs": [
    {
     "name": "stdout",
     "output_type": "stream",
     "text": [
      "Loaded 57271 sequences from train file.\n",
      "Loaded 6260 sequences from test file.\n",
      "Loaded 7 classes and weights.\n"
     ]
    }
   ],
   "source": [
    "X_train, y_train = load_data('train')\n",
    "X_train, y_train = shuffle(X_train, y_train)\n",
    "print(f'Loaded {len(y_train)} sequences from train file.')\n",
    "\n",
    "X_test, y_test = load_data('test')\n",
    "print(f'Loaded {len(y_test)} sequences from test file.')\n",
    "\n",
    "genres, class_weights = load_data('class_weights')\n",
    "print(f'Loaded {len(genres)} classes and weights.')"
   ]
  },
  {
   "cell_type": "markdown",
   "metadata": {},
   "source": [
    "#### Plot a single sample"
   ]
  },
  {
   "cell_type": "code",
   "execution_count": 9,
   "metadata": {},
   "outputs": [
    {
     "data": {
      "image/png": "[encoded data removed]",
      "text/plain": [
       "<Figure size 1152x432 with 2 Axes>"
      ]
     },
     "metadata": {},
     "output_type": "display_data"
    }
   ],
   "source": [
    "def plot_mfcc(x_mfcc, y):\n",
    "    plt.figure(figsize=(16, 6))\n",
    "    librosa.display.specshow(np.transpose(x_mfcc))\n",
    "    plt.colorbar()\n",
    "    plt.title(f'MFCC ({y})')\n",
    "    plt.tight_layout()\n",
    "    plt.show()\n",
    "    \n",
    "plot_mfcc(X_train[0][0], genres[y_test[0]])"
   ]
  },
  {
   "cell_type": "markdown",
   "metadata": {},
   "source": [
    "## Baseline Random Prediction"
   ]
  },
  {
   "cell_type": "markdown",
   "metadata": {},
   "source": [
    "In order to evaluate a model's performance, we need to consider a random classification baseline where we take the class distribution into account (as our dataset is imbalanced). The distribution can be inferred by the class weights that we computed during preprocessing."
   ]
  },
  {
   "cell_type": "markdown",
   "metadata": {},
   "source": [
    "#### Performance metrics"
   ]
  },
  {
   "cell_type": "code",
   "execution_count": 10,
   "metadata": {},
   "outputs": [],
   "source": [
    "def compute_metrics(y_true, y_pred):\n",
    "    print('Accuracy:', str(int(metrics.accuracy_score(y_true, y_pred)*100)) + '%\\n')\n",
    "    print(metrics.classification_report(y_true, y_pred))\n",
    "    metrics.confusion_matrix(y_true, y_pred)\n",
    "    \n",
    "    \n",
    "def compute_confusion_matrix(y_true, y_pred, classes=genres, cmap=plt.cm.Blues):\n",
    "    \"\"\"\n",
    "    This function prints and plots the confusion matrix.\n",
    "    Normalization can be applied by setting `normalize=True`.\n",
    "    \"\"\"\n",
    "    title = 'Normalized confusion matrix'\n",
    "    cm = metrics.confusion_matrix(y_true, y_pred)\n",
    "    cm = cm.astype('float') / cm.sum(axis=1)[:, np.newaxis]\n",
    "\n",
    "    fig, ax = plt.subplots()\n",
    "    fig.set_size_inches(12, 8)\n",
    "    im = ax.imshow(cm, interpolation='nearest', cmap=cmap)\n",
    "    ax.figure.colorbar(im, ax=ax)\n",
    "\n",
    "    ax.set(xticks=np.arange(cm.shape[1]),\n",
    "           yticks=np.arange(cm.shape[0]),\n",
    "\n",
    "           xticklabels=classes, yticklabels=classes,\n",
    "           title=title,\n",
    "           ylabel='True label',\n",
    "           xlabel='Predicted label')\n",
    "\n",
    "    plt.setp(ax.get_xticklabels(), rotation=45, ha=\"right\",\n",
    "             rotation_mode=\"anchor\")\n",
    "\n",
    "    thresh = cm.max() / 2.\n",
    "    for i in range(cm.shape[0]):\n",
    "        for j in range(cm.shape[1]):\n",
    "            ax.text(j, i, format(cm[i, j], '.2f'),\n",
    "                    ha=\"center\", va=\"center\",\n",
    "                    color=\"white\" if cm[i, j] > thresh else \"black\")\n",
    "            \n",
    "    fig.tight_layout()\n",
    "    plt.show()"
   ]
  },
  {
   "cell_type": "markdown",
   "metadata": {},
   "source": [
    "#### Baseline performance"
   ]
  },
  {
   "cell_type": "code",
   "execution_count": 11,
   "metadata": {},
   "outputs": [
    {
     "name": "stdout",
     "output_type": "stream",
     "text": [
      "Accuracy: 14%\n",
      "\n",
      "              precision    recall  f1-score   support\n",
      "\n",
      "           0       0.16      0.14      0.15      1065\n",
      "           1       0.13      0.15      0.14       800\n",
      "           2       0.18      0.17      0.18       985\n",
      "           3       0.15      0.14      0.15      1070\n",
      "           4       0.13      0.15      0.14       810\n",
      "           5       0.17      0.17      0.17       970\n",
      "           6       0.09      0.09      0.09       560\n",
      "\n",
      "    accuracy                           0.15      6260\n",
      "   macro avg       0.14      0.14      0.14      6260\n",
      "weighted avg       0.15      0.15      0.15      6260\n",
      "\n"
     ]
    },
    {
     "data": {
      "image/png": "[encoded data removed]",
      "text/plain": [
       "<Figure size 864x576 with 2 Axes>"
      ]
     },
     "metadata": {},
     "output_type": "display_data"
    }
   ],
   "source": [
    "if RERUN_BASELINES:\n",
    "    class_prob = (1/class_weights)/(sum(1/class_weights))\n",
    "    y_brp = np.random.choice(NUM_CLASSES, len(y_test), p=class_prob)\n",
    "\n",
    "    compute_metrics(y_test, y_brp)\n",
    "    compute_confusion_matrix(y_test, y_brp)"
   ]
  },
  {
   "cell_type": "markdown",
   "metadata": {},
   "source": [
    "As expected, the random baseline achieves a better-than-random f1-score for the classes that are overrepresented and likewise a poorer performance on the underrepresented classes."
   ]
  },
  {
   "cell_type": "markdown",
   "metadata": {},
   "source": [
    "## Baseline Prediction by Audio Duration"
   ]
  },
  {
   "cell_type": "markdown",
   "metadata": {},
   "source": [
    "Before doing anything remotely advanced, it's relevant to evaluate how well song duration correlates with music genre. To test this, we set up a small experiment where we train a traditional KNN classifier to predict music genre based on standardized audio duration alone."
   ]
  },
  {
   "cell_type": "markdown",
   "metadata": {},
   "source": [
    "#### Normalize, predict and evaluate"
   ]
  },
  {
   "cell_type": "code",
   "execution_count": 12,
   "metadata": {},
   "outputs": [
    {
     "name": "stdout",
     "output_type": "stream",
     "text": [
      "Accuracy: 17%\n",
      "\n",
      "              precision    recall  f1-score   support\n",
      "\n",
      "           0       0.22      0.35      0.27      1065\n",
      "           1       0.13      0.19      0.15       800\n",
      "           2       0.19      0.22      0.20       985\n",
      "           3       0.16      0.12      0.14      1070\n",
      "           4       0.09      0.05      0.06       810\n",
      "           5       0.30      0.19      0.23       970\n",
      "           6       0.08      0.04      0.05       560\n",
      "\n",
      "    accuracy                           0.18      6260\n",
      "   macro avg       0.16      0.17      0.16      6260\n",
      "weighted avg       0.17      0.18      0.17      6260\n",
      "\n"
     ]
    },
    {
     "data": {
      "image/png": "[encoded data removed]",
      "text/plain": [
       "<Figure size 864x576 with 2 Axes>"
      ]
     },
     "metadata": {},
     "output_type": "display_data"
    }
   ],
   "source": [
    "if RERUN_BASELINES:\n",
    "    _, __, ___, ____, X_dur_train = map(list, zip(*X_train))\n",
    "    _, __, ___, ____, X_dur_test = map(list, zip(*X_test))\n",
    "    \n",
    "    X_dur_train = np.array(X_dur_train).reshape(-1, 1)\n",
    "    X_dur_test = np.array(X_dur_test).reshape(-1, 1)\n",
    "    \n",
    "    y_dur_train = np.copy(y_train)\n",
    "    y_dur_test = np.copy(y_test)\n",
    "    \n",
    "    scaler = preprocessing.StandardScaler()\n",
    "    scaler.fit(X_dur_train)\n",
    "\n",
    "    knn = neighbors.KNeighborsClassifier(n_neighbors=3)\n",
    "    knn.fit(scaler.transform(X_dur_train), y_dur_train)\n",
    "    y_pred = knn.predict(scaler.transform(X_dur_test))\n",
    "\n",
    "    compute_metrics(y_dur_test, y_pred)\n",
    "    compute_confusion_matrix(y_dur_test, y_pred)"
   ]
  },
  {
   "cell_type": "markdown",
   "metadata": {},
   "source": [
    "Perhaps surprisingly, audio duration does not appear to be a good indicator of genre in most cases. Apart from Electronic, Hip-Hop and Classical, performance actually *decreases* compared to random guessing. Let's take a look at the summary statistics for audio duration:"
   ]
  },
  {
   "cell_type": "code",
   "execution_count": 13,
   "metadata": {},
   "outputs": [
    {
     "name": "stdout",
     "output_type": "stream",
     "text": [
      "Electronic: (259.31064952949276, 165.51459044503093)\n",
      "Hip-Hop: (206.4337748344371, 102.3505485937931)\n",
      "Rock: (229.34715666441897, 170.64418579933763)\n",
      "Folk: (228.40323492817555, 152.8001243712156)\n",
      "Pop: (215.03730957913763, 144.83663893323515)\n",
      "Classical: (318.05230596175477, 409.99313318040765)\n",
      "Jazz: (383.3748535728231, 331.8309400883381)\n"
     ]
    }
   ],
   "source": [
    "_, __, ___, ____, X_dur_train = map(list, zip(*X_train))\n",
    "_, __, ___, ____, X_dur_test = map(list, zip(*X_test))\n",
    "\n",
    "X_dur_train = np.array(X_dur_train).reshape(-1, 1)\n",
    "X_dur_test = np.array(X_dur_test).reshape(-1, 1)\n",
    "\n",
    "y_dur_train = np.copy(y_train)\n",
    "y_dur_test = np.copy(y_test)\n",
    "\n",
    "\n",
    "def audio_duration_mean_std(genre=0):\n",
    "    '''\n",
    "    Computes the mean and standard deviation\n",
    "    of audio durations for a given genre.\n",
    "    '''\n",
    "    samples = zip(X_dur_train, y_train)\n",
    "    samples_filtered = []\n",
    "\n",
    "    for sample in samples:\n",
    "        if sample[1] == genre:\n",
    "            samples_filtered.append(sample[0])\n",
    "    \n",
    "    return np.mean(samples_filtered), np.std(samples_filtered)\n",
    "\n",
    "\n",
    "for genre in range(NUM_CLASSES):\n",
    "    print(f'{genres[genre]}:', audio_duration_mean_std(genre))"
   ]
  },
  {
   "cell_type": "markdown",
   "metadata": {},
   "source": [
    "## K-Nearest Neighbors"
   ]
  },
  {
   "cell_type": "markdown",
   "metadata": {},
   "source": [
    "We will be using the traditional KNN classifier as a performance baseline. Because prediction time scales linearly with the number of dimensions, it is necessary to transform the features to a smaller dimensional space before feeding it into the classifier. We have chosen to use the sum of each frequency band across all timesteps as our transformation. This transformation completely discards the temporal information that we have available but that should be considered a limitation of the traditional KNN classifier."
   ]
  },
  {
   "cell_type": "markdown",
   "metadata": {},
   "source": [
    "#### Feature transform for KNN"
   ]
  },
  {
   "cell_type": "code",
   "execution_count": 14,
   "metadata": {},
   "outputs": [],
   "source": [
    "def normalize_features(samples, coefficients=[None]*5):\n",
    "    '''\n",
    "    Normalize features by scaling.\n",
    "    '''\n",
    "    mfccs, chromas, tempo, crest, dur = map(list, zip(*samples))\n",
    "\n",
    "    def standard(lst, coefficients=None):\n",
    "        if coefficients is not None:\n",
    "            mean, std = coefficients[0], coefficients[1]\n",
    "        else:\n",
    "            mean, std = np.mean(lst), np.std(lst)\n",
    "        return (lst - mean) / std, mean, std\n",
    "    \n",
    "    def min_max(lst, coefficients=None):\n",
    "        if coefficients is not None:\n",
    "            minval, maxval = coefficients[0], coefficients[1]\n",
    "        else:\n",
    "            minval, maxval = np.min(lst), np.max(lst)\n",
    "        return (lst - minval) / (maxval - minval), minval, maxval\n",
    "    \n",
    "    mfccs, mean, std = standard(mfccs, coefficients[0])\n",
    "    mfccs, mfccs_min, mfccs_max = min_max(mfccs, coefficients[1])\n",
    "    tempo, tempo_min, tempo_max = min_max(tempo, coefficients[2])\n",
    "    dur, dur_min, dur_max = min_max(dur, coefficients[4])\n",
    "    \n",
    "    coefficients = [(mean, std), (mfccs_min, mfccs_max), (tempo_min, tempo_max), None, (dur_min, dur_max)]\n",
    "    \n",
    "    return list(zip(mfccs, chromas, tempo, crest, dur)), coefficients\n",
    "\n",
    "\n",
    "def transform_features_knn(samples, enabled_features = '111x1'):\n",
    "    '''\n",
    "    Transforms features to a concatenated and normalized\n",
    "    representation for use in the KNN classifier.\n",
    "    '''\n",
    "    X = []\n",
    "    for sample in samples:\n",
    "        Xn = []\n",
    "\n",
    "        for i in range(len(enabled_features)):\n",
    "            if i < 2 and enabled_features[i] == '1':\n",
    "                Xn.extend(np.sum(sample[i], axis=0) / sample[i].shape[0])\n",
    "            elif i >= 2 and enabled_features[i] == '1':\n",
    "                Xn.append(sample[i])\n",
    "                \n",
    "        X.append(np.array(Xn))\n",
    "        \n",
    "    return X"
   ]
  },
  {
   "cell_type": "markdown",
   "metadata": {},
   "source": [
    "#### Single feature performance evaluation"
   ]
  },
  {
   "cell_type": "code",
   "execution_count": 15,
   "metadata": {},
   "outputs": [
    {
     "name": "stdout",
     "output_type": "stream",
     "text": [
      "Running single feature evaluation...\n",
      "100x0 0.4851\n",
      "010x0 0.3190\n",
      "001x0 0.1647\n",
      "000x1 0.1932\n"
     ]
    }
   ],
   "source": [
    "def single_feature_evaluation(X_train, X_test, y_train, y_test):\n",
    "    '''\n",
    "    Runs a single feature evaluation using a KNN classifier\n",
    "    and returns measured performance for each feature considered.\n",
    "    '''\n",
    "    X_mfccs_train, X_chromas_train, X_tempo_train, X_crest_train, X_dur_train = map(list, zip(*X_train))\n",
    "    X_mfccs_test, X_chromas_test, X_tempo_test, X_crest_test, X_dur_test = map(list, zip(*X_test))\n",
    "    \n",
    "    X_knn_train, coefficients = normalize_features(X_train)\n",
    "    X_knn_test, _ = normalize_features(X_test, coefficients)\n",
    "    \n",
    "    def predict(enabled_features):\n",
    "        knn = neighbors.KNeighborsClassifier(n_neighbors=30, weights='distance', n_jobs=-1)\n",
    "        knn.fit(transform_features_knn(np.copy(X_knn_train), enabled_features), y_train)\n",
    "        return knn.predict(transform_features_knn(np.copy(X_knn_test), enabled_features))\n",
    "    \n",
    "    features = '000x0'\n",
    "    print(f'Running single feature evaluation...')\n",
    "    for idx, feature in enumerate(features):\n",
    "        if feature != '0': continue\n",
    "        trial_features = features[:idx] + '1' + features[idx + 1:]\n",
    "        f1 = metrics.classification_report(y_test, predict(trial_features), output_dict=True)['weighted avg']['f1-score']\n",
    "        print(trial_features, '%.4f' % f1)\n",
    "        \n",
    "if RERUN_BASELINES:\n",
    "    single_feature_evaluation(X_train, X_test, y_train, y_test)"
   ]
  },
  {
   "cell_type": "markdown",
   "metadata": {},
   "source": [
    "From above results it is clear that MFCCs are by far the best features if we are to use only *one* feature. Next-best feature is chroma features, which also shows reasonable performance. It is no surprise that the single-value features, tempo and audio duration, show the worst performance (but better than random prediction)."
   ]
  },
  {
   "cell_type": "markdown",
   "metadata": {},
   "source": [
    "#### Weighted majority vote (ensemble)"
   ]
  },
  {
   "cell_type": "code",
   "execution_count": 16,
   "metadata": {},
   "outputs": [
    {
     "name": "stdout",
     "output_type": "stream",
     "text": [
      "Running weighted majority vote...\n",
      "ensemble 0.4559\n"
     ]
    }
   ],
   "source": [
    "def weighted_majority_vote(X_train, X_test, y_train, y_test):\n",
    "    '''\n",
    "    Runs a single feature evaluation using a KNN classifier\n",
    "    and returns measured performance for each feature considered.\n",
    "    '''\n",
    "    X_mfccs_train, X_chromas_train, X_tempo_train, X_crest_train, X_dur_train = map(list, zip(*X_train))\n",
    "    X_mfccs_test, X_chromas_test, X_tempo_test, X_crest_test, X_dur_test = map(list, zip(*X_test))\n",
    "    \n",
    "    X_knn_train, coefficients = normalize_features(X_train)\n",
    "    X_knn_test, _ = normalize_features(X_test, coefficients)\n",
    "    \n",
    "    def predict(enabled_features):\n",
    "        knn = neighbors.KNeighborsClassifier(n_neighbors=30, weights='distance', n_jobs=-1)\n",
    "        knn.fit(transform_features_knn(np.copy(X_knn_train), enabled_features), y_train)\n",
    "        return knn.predict(transform_features_knn(np.copy(X_knn_test), enabled_features))\n",
    "    \n",
    "    features, knn_weights, y_pred = '000x0', [0.4851, 0.3190, 0.1933, None, 0.1848], []\n",
    "    print(f'Running weighted majority vote...')\n",
    "    for idx, feature in enumerate(features):\n",
    "        if feature != '0':\n",
    "            y_pred.append(None)\n",
    "            continue\n",
    "        trial_features = features[:idx] + '1' + features[idx + 1:]\n",
    "        y_pred.append(predict(trial_features))\n",
    "    \n",
    "    y_pred_ensemble = []\n",
    "    for idx in range(len(y_pred[0])):\n",
    "        preds = np.zeros(NUM_CLASSES)\n",
    "        for i in range(len(features)):\n",
    "            if i == 3: continue # a bit hacky\n",
    "            preds[y_pred[i][idx]] += knn_weights[i]\n",
    "        y_pred_ensemble.append(np.argmax(preds))\n",
    "    \n",
    "    f1 = metrics.classification_report(y_test, y_pred_ensemble, output_dict=True)['weighted avg']['f1-score']\n",
    "    print('ensemble %.4f' % f1)\n",
    "        \n",
    "if RERUN_BASELINES:\n",
    "    weighted_majority_vote(X_train, X_test, y_train, y_test)"
   ]
  },
  {
   "cell_type": "markdown",
   "metadata": {},
   "source": [
    "It turns out that a majority vote ensemble weighted by their individual $F_{1}$-scores from the performance evaluation above does not improve performance. In fact, the ensemble performs slightly worse at a score of 0.4573 compared to 0.4851 of just the MFCCs."
   ]
  },
  {
   "cell_type": "markdown",
   "metadata": {},
   "source": [
    "#### Backward feature selection"
   ]
  },
  {
   "cell_type": "code",
   "execution_count": 16,
   "metadata": {},
   "outputs": [
    {
     "name": "stdout",
     "output_type": "stream",
     "text": [
      "Running backward feature selection...\n",
      "111x1 0.3903\n",
      "011x1 0.3415\n",
      "101x1 0.4650\n",
      "110x1 0.3730\n",
      "111x0 0.3844\n",
      "Setting 101x1 as new best.\n",
      "\n",
      "001x1 0.1855\n",
      "100x1 0.4848\n",
      "101x0 0.4612\n",
      "Setting 100x1 as new best.\n",
      "\n",
      "000x1 0.1738\n",
      "100x0 0.4851\n",
      "Setting 100x0 as new best.\n",
      "\n",
      "Best overall: 100x0\n"
     ]
    },
    {
     "data": {
      "image/png": "[encoded data removed]",
      "text/plain": [
       "<Figure size 864x576 with 2 Axes>"
      ]
     },
     "metadata": {},
     "output_type": "display_data"
    }
   ],
   "source": [
    "def feature_selection(X_train, X_test, y_train, y_test):\n",
    "    '''\n",
    "    Runs a backward feature selection using a KNN classifier\n",
    "    and returns measured performance for all features considered.\n",
    "    '''\n",
    "    X_mfccs_train, X_chromas_train, X_tempo_train, X_crest_train, X_dur_train = map(list, zip(*X_train))\n",
    "    X_mfccs_test, X_chromas_test, X_tempo_test, X_crest_test, X_dur_test = map(list, zip(*X_test))\n",
    "    \n",
    "    X_knn_train, coefficients = normalize_features(X_train)\n",
    "    X_knn_test, _ = normalize_features(X_test, coefficients)\n",
    "    \n",
    "    def predict(enabled_features):\n",
    "        knn = neighbors.KNeighborsClassifier(n_neighbors=30, weights='distance', n_jobs=-1)\n",
    "        knn.fit(transform_features_knn(np.copy(X_knn_train), enabled_features), y_train)\n",
    "        return knn.predict(transform_features_knn(np.copy(X_knn_test), enabled_features))\n",
    "    \n",
    "    features, top_f1 = '111x1', 0.3903\n",
    "    print(f'Running backward feature selection...\\n{features} {top_f1}')\n",
    "    while features.count('1') > 1:\n",
    "        best_trial_f1 = 0\n",
    "        \n",
    "        for idx, feature in enumerate(features):\n",
    "            if feature == '1':            \n",
    "                trial_features = features[:idx] + '0' + features[idx + 1:]\n",
    "                f1 = metrics.classification_report(y_test, predict(trial_features), output_dict=True)['weighted avg']['f1-score']\n",
    "                print(trial_features, '%.4f' % f1)\n",
    "\n",
    "                if f1 >= best_trial_f1:\n",
    "                    best_trial_idx = idx\n",
    "                    best_trial_f1 = f1\n",
    "                    best_trial_features = trial_features\n",
    "        \n",
    "        if best_trial_f1 < top_f1:\n",
    "            break\n",
    "            \n",
    "        top_f1 = best_trial_f1\n",
    "        features = best_trial_features\n",
    "        print('Setting', features, 'as new best.\\n')\n",
    "            \n",
    "    print('Best overall:', features)\n",
    "    compute_confusion_matrix(y_test, predict(features))\n",
    "    \n",
    "    \n",
    "if RERUN_BASELINES:\n",
    "    feature_selection(X_train, X_test, y_train, y_test)"
   ]
  },
  {
   "cell_type": "markdown",
   "metadata": {},
   "source": [
    "From the backward feature selection it can be concluded that MFFCs work the best for music genre classification, while MFFCs + audio duration still shows comparable performance. Removing the chroma features increases classification performance significantly.\n",
    "\n",
    "From the confusion matrix it can also be seen that especially Pop and Jazz music is often mistaken for other genres, while Electronic music perhaps surprisingly often gets misclassified as Hip-Hop. This is likely due to both Electronic music and Hip-Hop being rich in low-frequency content."
   ]
  },
  {
   "cell_type": "markdown",
   "metadata": {},
   "source": [
    "## DenseNet"
   ]
  },
  {
   "cell_type": "markdown",
   "metadata": {},
   "source": [
    "To improve classification performance further, we choose to model the problem using a neural architecture. More specifically, we implement the deep convolutional network architecture *DenseNet* as first proposed by <a href=\"https://arxiv.org/abs/1608.06993\">Huang 2016</a> for use on 2-dimensional features. As MFFCs appear to model the problem the best, we will focus on that feature alone."
   ]
  },
  {
   "cell_type": "markdown",
   "metadata": {},
   "source": [
    "#### Global parameters"
   ]
  },
  {
   "cell_type": "code",
   "execution_count": 17,
   "metadata": {},
   "outputs": [
    {
     "name": "stdout",
     "output_type": "stream",
     "text": [
      "CUDA has been enabled.\n"
     ]
    }
   ],
   "source": [
    "BATCH_SIZE = 256\n",
    "CUDA = torch.cuda.is_available() # Check if we have a GPU available\n",
    "\n",
    "print('CUDA has been enabled.' if CUDA else 'CUDA has been disabled.')"
   ]
  },
  {
   "cell_type": "markdown",
   "metadata": {},
   "source": [
    "#### Count parameters\n",
    "Before we go ahead and build the actual networks, let's first define a simple function that takes a network and returns its number of parameters. This is useful for comparing different architectures to each other."
   ]
  },
  {
   "cell_type": "code",
   "execution_count": 18,
   "metadata": {},
   "outputs": [],
   "source": [
    "def num_params(net, verbose = True):\n",
    "    count = sum(p.numel() for p in net.parameters())\n",
    "    if verbose:\n",
    "        print(f'Model parameters: {count}')\n",
    "    return count"
   ]
  },
  {
   "cell_type": "markdown",
   "metadata": {},
   "source": [
    "#### Data partitioning"
   ]
  },
  {
   "cell_type": "markdown",
   "metadata": {},
   "source": [
    "For better GPU utilization, we group samples in mini-batches."
   ]
  },
  {
   "cell_type": "code",
   "execution_count": 37,
   "metadata": {},
   "outputs": [
    {
     "name": "stdout",
     "output_type": "stream",
     "text": [
      "Generated (201, 22, 24) batches for training, validation and test.\n"
     ]
    }
   ],
   "source": [
    "def convert_to_batches(data, is_y = False):\n",
    "    '''\n",
    "    Converts a list of numpy arrays to a list of\n",
    "    batched numpy arrays of size BATCH_SIZE.\n",
    "    '''\n",
    "    batches, i = [], 0\n",
    "\n",
    "    while i < len(data)-BATCH_SIZE:\n",
    "        arr = data[i:i+BATCH_SIZE] if is_y is False else data[i:i+BATCH_SIZE]\n",
    "        var = Variable(torch.from_numpy(np.array(arr)).float())\n",
    "        batches.append(var)\n",
    "        i += BATCH_SIZE\n",
    "        \n",
    "    return batches\n",
    "\n",
    "X_train, X_val, y_train, y_val = model_selection.train_test_split(X_train, y_train, test_size=0.1)\n",
    "\n",
    "#X_train, coefficients = normalize_features(X_train)\n",
    "#X_val, _ = normalize_features(X_val, coefficients)\n",
    "#X_test, _ = normalize_features(X_test, coefficients)\n",
    "\n",
    "X_train, _, __, ___, ____ = map(list, zip(*X_train))\n",
    "X_val, _, __, ___, ____ = map(list, zip(*X_val))\n",
    "X_test, _, __, ___, ____ = map(list, zip(*X_test))\n",
    "\n",
    "X_train, X_val, X_test = convert_to_batches(X_train), convert_to_batches(X_val), convert_to_batches(X_test)\n",
    "y_train, y_val, y_test = convert_to_batches(y_train, is_y=True), convert_to_batches(y_val, is_y=True), convert_to_batches(y_test, is_y=True)\n",
    "\n",
    "print(f'Generated ({len(y_train)}, {len(y_val)}, {len(y_test)}) batches for training, validation and test.')"
   ]
  },
  {
   "cell_type": "markdown",
   "metadata": {},
   "source": [
    "#### Train"
   ]
  },
  {
   "cell_type": "code",
   "execution_count": 53,
   "metadata": {},
   "outputs": [],
   "source": [
    "def accuracy(out, y):\n",
    "    '''\n",
    "    Calculate accuracy of model where\n",
    "    out.shape = (batches, classes) and y.shape = (batches)\n",
    "    '''\n",
    "    out = torch.max(out, 1)[1].float()\n",
    "    eq = torch.eq(out, y.float()).float()\n",
    "    return torch.mean(eq)\n",
    "\n",
    "\n",
    "def train_net(net, epochs=50, lr=1e-3, class_weights=None, verbose=True):\n",
    "    \n",
    "    # Transform class weights to Tensor\n",
    "    weight = torch.Tensor(class_weights) if class_weights is not None else None\n",
    "    \n",
    "    # Move network to GPU if available\n",
    "    if CUDA: net.cuda()\n",
    "    if CUDA and weight is not None: weight = weight.cuda()\n",
    "    \n",
    "    criterion = nn.CrossEntropyLoss(weight=weight)\n",
    "    optimizer = optim.Adam(net.parameters(), lr=lr, weight_decay=lr/100)\n",
    "    losses, accs, val_losses, val_accs = [], [], [], []\n",
    "    \n",
    "    num_params(net)\n",
    "    \n",
    "    if verbose:\n",
    "        start_time = time.time()\n",
    "    \n",
    "    def plot(losses, accs, val_losses, val_accs):\n",
    "        '''\n",
    "        Continously plots the training/validation loss and accuracy\n",
    "        of the model being trained. This functions is only called if\n",
    "        verbose is True for the training session.\n",
    "        '''\n",
    "        e = [i for i in range(len(losses))]\n",
    "        fig = plt.figure(figsize=(12,4))\n",
    "        plt.subplot(1, 2, 1)\n",
    "        plt.plot(e, losses, label='Loss (Training)')\n",
    "        \n",
    "        plt.plot(e, val_losses, label='Loss (Validation)')\n",
    "            \n",
    "        plt.legend()\n",
    "        plt.subplot(1, 2, 2)\n",
    "        plt.plot(e, accs, label='Accuracy (Training)')\n",
    "        \n",
    "        plt.plot(e, val_accs, label='Accuracy (Validation)')\n",
    "            \n",
    "        plt.legend()\n",
    "        plt.show()\n",
    "        clear_output(wait=True)\n",
    "    \n",
    "    def run(net, X, y, optimize = False):\n",
    "        '''\n",
    "        This function constitutes a single epoch.\n",
    "        If optimize is True, the associated optimizer will backpropagate\n",
    "        and adjust network weights.\n",
    "        Returns the average sample loss and accuracy for that epoch.\n",
    "        '''\n",
    "        epoch_loss, epoch_acc = 0, []\n",
    "        \n",
    "        if len(X) == 0 or len(y) == 0:\n",
    "            raise ParameterError('Something went wrong. Invalid input!')\n",
    "        \n",
    "        # Helper function responsible for running a batch\n",
    "        def run_batch(X, y, epoch_loss, epoch_acc):\n",
    "\n",
    "            y = y.long()\n",
    "\n",
    "            if CUDA:\n",
    "                X = X.cuda()\n",
    "                y = y.cuda()\n",
    "\n",
    "            out = net(X)\n",
    "\n",
    "            # Compute loss and accuracy for batch\n",
    "            batch_loss = criterion(out, y)\n",
    "            batch_acc = accuracy(out, y)  \n",
    "\n",
    "            # If training session, initiate backpropagation and optimization\n",
    "            if optimize == True:\n",
    "                optimizer.zero_grad()\n",
    "                batch_loss.backward()\n",
    "                optimizer.step()\n",
    "\n",
    "            if CUDA:\n",
    "                batch_acc = batch_acc.cpu()\n",
    "                batch_loss = batch_loss.cpu()\n",
    "\n",
    "            # Accumulate loss and accuracy for epoch metrics\n",
    "            epoch_loss += batch_loss.data.numpy() / float(BATCH_SIZE)\n",
    "            epoch_acc.append(batch_acc.data.numpy())\n",
    "\n",
    "            return epoch_loss, epoch_acc\n",
    "\n",
    "        # For each batch\n",
    "        for i,x in enumerate(X):\n",
    "            temp_loss, temp_acc = run_batch(x, y[i], epoch_loss, epoch_acc)\n",
    "            epoch_loss += temp_loss / float(len(X))\n",
    "            epoch_acc.append(np.mean(temp_acc))\n",
    "\n",
    "        return epoch_loss, np.mean(epoch_acc)\n",
    "    \n",
    "    \n",
    "    # Iterate over training epochs\n",
    "    for epoch in range(epochs):\n",
    "        \n",
    "        net.train()\n",
    "        loss, acc = run(net, X_train, y_train, optimize=True)\n",
    "        losses.append(loss)\n",
    "        accs.append(acc)\n",
    "        \n",
    "        net.eval()\n",
    "        val_loss, val_acc = run(net, X_test, y_test)\n",
    "        val_losses.append(val_loss)\n",
    "        val_accs.append(val_acc)\n",
    "\n",
    "        # Optionally plot performance metrics continously\n",
    "        if verbose:\n",
    "            \n",
    "            # Print measured wall-time of first epoch\n",
    "            if epoch == 0:\n",
    "                dur = str(int((time.time() - start_time)/60))\n",
    "                print(f'\\nEpoch wall-time: {dur} min')\n",
    "                \n",
    "            plot(losses, accs, val_losses, val_accs)\n",
    "            \n",
    "    return net"
   ]
  },
  {
   "cell_type": "markdown",
   "metadata": {},
   "source": [
    "#### Test"
   ]
  },
  {
   "cell_type": "code",
   "execution_count": 30,
   "metadata": {},
   "outputs": [],
   "source": [
    "def evaluate_net(net):\n",
    "    '''\n",
    "    Evaluates a neural network using data defined\n",
    "    by the X_test and y_test arrays. In order to\n",
    "    evaluate the network, data dimensions obviously\n",
    "    need to match the input size of the network.\n",
    "    '''\n",
    "    y_pred, y_true = [], []\n",
    "\n",
    "    for idx, X in enumerate(X_test):\n",
    "\n",
    "        y = y_test[idx]\n",
    "        out = torch.argmax(net(X.cuda()), dim=1).cpu().data.numpy()\n",
    "\n",
    "        y_pred.append(out)\n",
    "        y_true.append(y.data.numpy().astype(int))\n",
    "\n",
    "    y_pred = np.array(y_pred).flatten()\n",
    "    y_true = np.array(y_true).flatten()\n",
    "\n",
    "    compute_metrics(y_true, y_pred)"
   ]
  },
  {
   "cell_type": "markdown",
   "metadata": {},
   "source": [
    "#### Network parameters"
   ]
  },
  {
   "cell_type": "code",
   "execution_count": 49,
   "metadata": {},
   "outputs": [],
   "source": [
    "NUM_CHANNELS = 64, 96\n",
    "NUM_LAYERS = 8\n",
    "KERNEL_SIZE = 3\n",
    "MAXPOOL_SIZE = 2\n",
    "MAXPOOL_STRIDE = 2"
   ]
  },
  {
   "cell_type": "markdown",
   "metadata": {},
   "source": [
    "#### Network implementation"
   ]
  },
  {
   "cell_type": "code",
   "execution_count": 60,
   "metadata": {},
   "outputs": [
    {
     "data": {
      "image/png": "[encoded data removed]",
      "text/plain": [
       "<Figure size 864x288 with 2 Axes>"
      ]
     },
     "metadata": {},
     "output_type": "display_data"
    }
   ],
   "source": [
    "class DenseSingle(nn.Module):\n",
    "\n",
    "    def __init__(self, input_size, output_size, dropout, dilation, padding, kernel_size, stride):\n",
    "        super(DenseSingle, self).__init__()\n",
    "        \n",
    "        self.layer = nn.Sequential(\n",
    "            nn.Conv2d(input_size, output_size, kernel_size=kernel_size, padding=padding, \n",
    "                      stride=stride, dilation=dilation, bias=False),\n",
    "            nn.BatchNorm2d(output_size),\n",
    "            nn.LeakyReLU(),\n",
    "            nn.Dropout(p=dropout)\n",
    "        )\n",
    "        \n",
    "    def forward(self, x):\n",
    "        out = self.layer(x)\n",
    "        return torch.cat([x, out], 1)\n",
    "\n",
    "\n",
    "class DenseBlock(nn.Module):\n",
    "    \n",
    "    def __init__(self, input_size, n_layers, growth_rate, dropout, dilation, padding, kernel_size, stride):\n",
    "        super(DenseBlock, self).__init__()\n",
    "        \n",
    "        layers = []\n",
    "        for i in range(n_layers):\n",
    "            layers.append(DenseSingle(input_size + i * growth_rate, growth_rate, \n",
    "                                      dropout, dilation, padding, kernel_size, stride))\n",
    "        \n",
    "        self.block = nn.Sequential(*layers)\n",
    "        \n",
    "    def forward(self, x):        \n",
    "        return self.block(x)\n",
    "\n",
    "    \n",
    "class TransitionBlock(nn.Module):\n",
    "    def __init__(self, input_size, output_size, dropout):\n",
    "        super(TransitionBlock, self).__init__()\n",
    "        \n",
    "        self.layers = nn.Sequential(\n",
    "            nn.Conv2d(input_size, output_size, kernel_size=1, stride=1, bias=False),\n",
    "            nn.BatchNorm2d(output_size),\n",
    "            nn.AvgPool2d(kernel_size=2, stride=2, padding=0),\n",
    "            nn.LeakyReLU(),\n",
    "            nn.Dropout(p=dropout)\n",
    "        )\n",
    "        \n",
    "    def forward(self, x):\n",
    "        return self.layers(x)\n",
    "    \n",
    "    \n",
    "class DenseNet(nn.Module):\n",
    "    def __init__(self):\n",
    "        super(DenseNet, self).__init__()\n",
    "\n",
    "        dropout = 0.4\n",
    "\n",
    "        self.cnn_in = nn.Sequential(\n",
    "            nn.Conv2d(in_channels=1, out_channels=NUM_CHANNELS[0], kernel_size=6, stride=1, padding=0, \n",
    "                      dilation=4, bias=False),\n",
    "            nn.BatchNorm2d(NUM_CHANNELS[0]),\n",
    "            nn.MaxPool2d(kernel_size=MAXPOOL_SIZE, stride=MAXPOOL_STRIDE, padding=0),\n",
    "            nn.LeakyReLU(),\n",
    "            nn.Dropout(p=dropout)\n",
    "        )\n",
    "\n",
    "        self.dense1 = DenseBlock(input_size=NUM_CHANNELS[0], n_layers=NUM_LAYERS, growth_rate=4, kernel_size=KERNEL_SIZE,\n",
    "                                 dilation=1, padding=1, stride=1, dropout=dropout)\n",
    "\n",
    "        self.trans1 = TransitionBlock(input_size=NUM_CHANNELS[1], output_size=NUM_CHANNELS[0], dropout=dropout)\n",
    "\n",
    "        self.dense2 = DenseBlock(input_size=NUM_CHANNELS[0], n_layers=NUM_LAYERS, growth_rate=4, kernel_size=KERNEL_SIZE,\n",
    "                                 dilation=1, padding=1, stride=1, dropout=dropout)\n",
    "\n",
    "        self.cnn_out = nn.Sequential(\n",
    "            nn.Conv2d(in_channels=NUM_CHANNELS[1], out_channels=NUM_CHANNELS[1], kernel_size=1, stride=1, bias=False),\n",
    "            nn.BatchNorm2d(NUM_CHANNELS[1]),\n",
    "            nn.MaxPool2d(kernel_size=MAXPOOL_SIZE, stride=MAXPOOL_STRIDE, padding=0),\n",
    "            nn.LeakyReLU(),\n",
    "            nn.Dropout(p=dropout)\n",
    "        )\n",
    "\n",
    "        self.out = nn.Linear(1248, NUM_CLASSES, bias=False)\n",
    "\n",
    "            \n",
    "    def forward(self, x):\n",
    "        x = x.reshape((BATCH_SIZE, 1, NUM_FRAMES, MFCC_COEFFICIENTS))\n",
    "        x = self.cnn_in(x)\n",
    "        x = self.dense1(x)\n",
    "        x = self.trans1(x)\n",
    "        x = self.dense2(x)\n",
    "        x = self.cnn_out(x)\n",
    "        \n",
    "        x = x.view(BATCH_SIZE, -1)\n",
    "        return F.softmax(self.out(x), dim=1)\n",
    "\n",
    "set_seed()\n",
    "net = train_net(DenseNet(), epochs=60, lr=5e-4)"
   ]
  },
  {
   "cell_type": "code",
   "execution_count": 61,
   "metadata": {},
   "outputs": [
    {
     "name": "stdout",
     "output_type": "stream",
     "text": [
      "Accuracy: 61%\n",
      "\n",
      "              precision    recall  f1-score   support\n",
      "\n",
      "           0       0.67      0.57      0.61      1065\n",
      "           1       0.63      0.85      0.72       800\n",
      "           2       0.67      0.67      0.67       985\n",
      "           3       0.55      0.66      0.60      1070\n",
      "           4       0.42      0.19      0.26       810\n",
      "           5       0.82      0.79      0.81       960\n",
      "           6       0.34      0.46      0.39       454\n",
      "\n",
      "    accuracy                           0.61      6144\n",
      "   macro avg       0.59      0.60      0.58      6144\n",
      "weighted avg       0.61      0.61      0.60      6144\n",
      "\n"
     ]
    }
   ],
   "source": [
    "evaluate_net(net)"
   ]
  },
  {
   "cell_type": "markdown",
   "metadata": {},
   "source": [
    "Based on these experiments, it can be concluded that a DenseNet does in fact increase classification performance significantly as compared to KNN ($F_{1}$-score of 0.60 as opposed to 0.49). It is plausible that with more data and further fine-tuning, the network can achieve even better results, closing in on human-level performance."
   ]
  }
 ],
 "metadata": {
  "kernelspec": {
   "display_name": "Python 3",
   "language": "python",
   "name": "python3"
  },
  "language_info": {
   "codemirror_mode": {
    "name": "ipython",
    "version": 3
   },
   "file_extension": ".py",
   "mimetype": "text/x-python",
   "name": "python",
   "nbconvert_exporter": "python",
   "pygments_lexer": "ipython3",
   "version": "3.6.5"
  }
 },
 "nbformat": 4,
 "nbformat_minor": 2
}
